{
 "metadata": {
  "name": "",
  "signature": "sha256:11c45a7efc4fc3a44aa350e18cf0c40f9a84d6b25f8d2c666c924865c1e00383"
 },
 "nbformat": 3,
 "nbformat_minor": 0,
 "worksheets": [
  {
   "cells": [
    {
     "cell_type": "code",
     "collapsed": false,
     "input": [
      "#Calculate KS statistic for a set of data against normal distribution\n",
      "def ks_norm(data): \n",
      "        n = np.size(data)\n",
      "        mu = np.mean(data)#MLC\n",
      "        sigma = np.std(data)#MLC\n",
      "        data.sort()\n",
      "        plotting_values =+ append([0], data) \n",
      "        cum_freq = np.linspace(0,1,n+1)\n",
      "        dist_1 = np.abs(cum_freq - sps.norm.cdf(plotting_values, mu, sigma))\n",
      "        max_1 = np.max(dist_1)\n",
      "        dist_2 = np.abs(cum_freq - np.append(sps.norm.cdf(plotting_values,mu,sigma)[1:],[1]))\n",
      "        max_2 = np.max(dist_2)\n",
      "        KS_stat = max(max_1, max_2)\n",
      "        return KS_stat"
     ],
     "language": "python",
     "metadata": {},
     "outputs": []
    },
    {
     "cell_type": "code",
     "collapsed": false,
     "input": [
      "#\n",
      "def matrix_norm(mu, sd, num_iterations, sample_size):\n",
      "         \n",
      "    A = np.random.normal(loc =mu, scale =sd, size=(num_iterations, sample_size))\n",
      "    return A"
     ],
     "language": "python",
     "metadata": {},
     "outputs": []
    },
    {
     "cell_type": "code",
     "collapsed": false,
     "input": [
      "def bootstrap_KS_norm(mu, sd, num_iterations, sample_size):\n",
      "    A = matrix_norm(mu, sd, num_iterations, sample_size)\n",
      "    KS_list = np.apply_along_axis(ks_norm, axis = 0, arr = A )\n",
      "    return KS_list"
     ],
     "language": "python",
     "metadata": {},
     "outputs": []
    },
    {
     "cell_type": "code",
     "collapsed": false,
     "input": [
      "#\n",
      "def p_calc(KS_test, KS_list):\n",
      "    KS_list.sort()\n",
      "    count = 0\n",
      "    for i in KS_list:\n",
      "        if i <= KS_test:\n",
      "            count = count +1\n",
      "            continue\n",
      "        else:\n",
      "            break\n",
      "    \n",
      "    proportion = float(count) / np.size(KS_list)\n",
      "    proportion = min(proportion, 1-proportion)\n",
      "    p_value = 2*proportion\n",
      "    return p_value"
     ],
     "language": "python",
     "metadata": {},
     "outputs": []
    },
    {
     "cell_type": "code",
     "collapsed": false,
     "input": [
      "def eval_pvalue(p_value, sign_lev):\n",
      "    if p_value <= sign_lev:\n",
      "        #print \"P-value: \" + str(round(p_value, 8)) + \"-> significant\"\n",
      "        print round(p_value, 10)\n",
      "    else: \n",
      "        print \"P-value: \" + str(round(p_value, 8)) + \"-> not significant\""
     ],
     "language": "python",
     "metadata": {},
     "outputs": []
    },
    {
     "cell_type": "code",
     "collapsed": false,
     "input": [
      "#define the data\n",
      "data_size = 100 #type size\n",
      "data_mean = 20 #type data mean\n",
      "data_std = 2 #type data standard deviation\n",
      "data = np.random.normal(loc =data_mean, scale =data_std, size=data_size)#normally distributed data\n",
      "#KS statistic for the data\n",
      "KS_test = ks_norm(data)\n",
      "#Bootstrap KS\n",
      "n_it = 1000 #define number of iteration for bootstrp\n",
      "s_size = 1000 #define sample size for each iteration\n",
      "KS_list = bootstrap_KS_norm(np.mean(data), np.std(data), n_it, s_size)\n",
      "\n",
      "p_value = p_calc(KS_test, KS_list)\n",
      "eval_pvalue(p_value, 0.05)\n"
     ],
     "language": "python",
     "metadata": {},
     "outputs": []
    }
   ],
   "metadata": {}
  }
 ]
}