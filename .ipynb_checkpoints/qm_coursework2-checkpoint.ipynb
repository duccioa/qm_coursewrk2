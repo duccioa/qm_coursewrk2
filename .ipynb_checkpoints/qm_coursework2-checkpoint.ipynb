{
 "metadata": {
  "name": "",
  "signature": "sha256:fc0577682cfa0214a8e45b85bb87bb7bbc50ccf7cdef24c2ed123e16cfe6cee9"
 },
 "nbformat": 3,
 "nbformat_minor": 0,
 "worksheets": []
}