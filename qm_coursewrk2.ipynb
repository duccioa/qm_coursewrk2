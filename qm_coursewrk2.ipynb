{
 "metadata": {
  "name": "",
  "signature": "sha256:7595abe1fb2b900b02f779f3ab7148c943a3c7b35bc947f2c24fb47172e37646"
 },
 "nbformat": 3,
 "nbformat_minor": 0,
 "worksheets": [
  {
   "cells": [
    {
     "cell_type": "heading",
     "level": 2,
     "metadata": {},
     "source": [
      "Quantitative Methods - Coursework 2"
     ]
    },
    {
     "cell_type": "heading",
     "level": 1,
     "metadata": {},
     "source": [
      "The VISA dataset"
     ]
    },
    {
     "cell_type": "markdown",
     "metadata": {},
     "source": [
      "**Duccio Aiazzi**\n"
     ]
    },
    {
     "cell_type": "heading",
     "level": 3,
     "metadata": {},
     "source": [
      "Introduction"
     ]
    },
    {
     "cell_type": "markdown",
     "metadata": {},
     "source": [
      "For the second coursework of the course Quantitave Methods at UCL, I will present the Python code to run a KS hypothesis test and relative analysis, in order to understand what type of distribution better fits a given set of data. In this case I will be using the data provided with the description of the coursework, contained in the file visa_online_application_intervals.csv."
     ]
    },
    {
     "cell_type": "heading",
     "level": 3,
     "metadata": {},
     "source": [
      "Set up"
     ]
    },
    {
     "cell_type": "code",
     "collapsed": false,
     "input": [
      "import pandas as pd\n",
      "import scipy as sp\n",
      "import numpy as np\n",
      "import scipy.stats as sps\n",
      "import matplotlib.pyplot as plt\n",
      "import os"
     ],
     "language": "python",
     "metadata": {},
     "outputs": [],
     "prompt_number": 1
    },
    {
     "cell_type": "heading",
     "level": 3,
     "metadata": {},
     "source": [
      "Data and exploratory analysis"
     ]
    },
    {
     "cell_type": "markdown",
     "metadata": {},
     "source": [
      "In order to make an hypothesis of the type of distribution that better represents our data, I first load the csv file, print a summary of the data and plot the histogram of the Probability Density Function (PDF) and the Cumulative Density Function (CDF). I assume the variable of the data to be continuous as it is a measure of time."
     ]
    },
    {
     "cell_type": "code",
     "collapsed": false,
     "input": [
      "#Load data\n",
      "table = pd.read_csv(\"visa_online_application_intervals.csv\", sep = \",\")\n",
      "data = np.genfromtxt(\"visa_online_application_intervals.csv\", delimiter = \",\")\n",
      "data = data[1:101]\n",
      "data_size = np.size(data)\n",
      "data_std = np.std(data)\n",
      "data_mean = np.mean(data)\n",
      "table.describe()"
     ],
     "language": "python",
     "metadata": {},
     "outputs": [
      {
       "html": [
        "<div style=\"max-width:1500px;overflow:auto;\">\n",
        "<table border=\"1\" class=\"dataframe\">\n",
        "  <thead>\n",
        "    <tr style=\"text-align: right;\">\n",
        "      <th></th>\n",
        "      <th>Time in (s)</th>\n",
        "    </tr>\n",
        "  </thead>\n",
        "  <tbody>\n",
        "    <tr>\n",
        "      <th>count</th>\n",
        "      <td>100.00000</td>\n",
        "    </tr>\n",
        "    <tr>\n",
        "      <th>mean</th>\n",
        "      <td>863.99000</td>\n",
        "    </tr>\n",
        "    <tr>\n",
        "      <th>std</th>\n",
        "      <td>759.70028</td>\n",
        "    </tr>\n",
        "    <tr>\n",
        "      <th>min</th>\n",
        "      <td>5.00000</td>\n",
        "    </tr>\n",
        "    <tr>\n",
        "      <th>25%</th>\n",
        "      <td>255.50000</td>\n",
        "    </tr>\n",
        "    <tr>\n",
        "      <th>50%</th>\n",
        "      <td>640.50000</td>\n",
        "    </tr>\n",
        "    <tr>\n",
        "      <th>75%</th>\n",
        "      <td>1254.25000</td>\n",
        "    </tr>\n",
        "    <tr>\n",
        "      <th>max</th>\n",
        "      <td>3565.00000</td>\n",
        "    </tr>\n",
        "  </tbody>\n",
        "</table>\n",
        "</div>"
       ],
       "metadata": {},
       "output_type": "pyout",
       "prompt_number": 2,
       "text": [
        "       Time in (s)\n",
        "count    100.00000\n",
        "mean     863.99000\n",
        "std      759.70028\n",
        "min        5.00000\n",
        "25%      255.50000\n",
        "50%      640.50000\n",
        "75%     1254.25000\n",
        "max     3565.00000"
       ]
      }
     ],
     "prompt_number": 2
    },
    {
     "cell_type": "markdown",
     "metadata": {},
     "source": [
      "The dataset VISA is an array of 100 observations measuring the elapsed time between online payment applications for VISA payment cards. As we can see from the PDF plot below, most of the intervals sits below 500s and the distribution decreases sharply at the beginning with a long tail for larger intervals. Both the PDF and the CDF suggest that an exponential distribution could fit the data. It is also known that the exponential distribution usually describes well the waiting time between Poisson distributed occurrences."
     ]
    },
    {
     "cell_type": "code",
     "collapsed": false,
     "input": [
      "#Plot data\n",
      "nbins = 15\n",
      "plt.figure(1)\n",
      "plt.title(\"PDF of the VISA dataset\")\n",
      "plt.hist(data, nbins, normed = True)\n",
      "#plot data CDF\n",
      "data.sort()\n",
      "cum_freq_plot = np.linspace(1/data_size, 1, data_size)\n",
      "plt.figure(2)\n",
      "plt.title(\"CDF of the VISA dataset\")\n",
      "plt.step(data, cum_freq_plot, 'r-', where = 'post')"
     ],
     "language": "python",
     "metadata": {},
     "outputs": [
      {
       "metadata": {},
       "output_type": "pyout",
       "prompt_number": 3,
       "text": [
        "[<matplotlib.lines.Line2D at 0x110082990>]"
       ]
      },
      {
       "metadata": {},
       "output_type": "display_data",
       "png": "[encoded data removed]",
       "text": [
        "<matplotlib.figure.Figure at 0x10fd90590>"
       ]
      },
      {
       "metadata": {},
       "output_type": "display_data",
       "png": "[encoded data removed]",
       "text": [
        "<matplotlib.figure.Figure at 0x10fe6b6d0>"
       ]
      }
     ],
     "prompt_number": 3
    },
    {
     "cell_type": "heading",
     "level": 3,
     "metadata": {},
     "source": [
      "Hypothesis test and methodology"
     ]
    },
    {
     "cell_type": "markdown",
     "metadata": {},
     "source": [
      "In order to verify whether the evidence is consistent with my hypothesis, I will run a one-tailed hypothesis test:  \n",
      "     \n",
      "$H_0$ : the data VISA follows an exponential distribution;   \n",
      "$H_1$ : the data VISA does not follow an exponential distribution;   \n",
      "Significance level $\\alpha$ = 0.05\n",
      "\n",
      "The defining parameter of the exponential distribution is it's scale:   \n",
      "$$\\gamma = \\frac{n}{\\sum{x_i}}$$  \n",
      "In this case, $\\hat{\\gamma}$ is estimated according to the Maximum Likelihood Estimate (MLE), meaning that it is calculated based on the available sample and I assume it to be the same as the one of the entire population, with n=100 and X=VISA dataset.    \n",
      "In order to proceed with the testing, I first calculate the **KS statistic** (Kolmogorov-Smirnov) for the VISA data against the hypothetical exponential distribution with scale $\\hat{\\gamma}$. I then calculate the probability p of obtaining such a value using **bootstrap**. The bootstrap consists of simulating a certain number of samples drawn from an exponential distribution with the same scale parameter and calculating the KS statistic for each sample. In this case, I create a matrix of numbers drawn from an exponential distribution, with the number of rows equal to the number of samples and the number of columns equal to the sample size (this should be equal to the data size). I then calculate the KS statistic for each row, and obtain a column of KS statistics the size equal to the number of simulated samples. \n",
      "Based on this sample of KS statistics I can calculate the probability p. This probability is my *p-value* that can be compared with my significance level $\\alpha$. If *p-value* < $\\alpha$ we can reject the hypothesis $H_0$ and accept $H_1$, otherwise there is not enough evidence to reject $H_0$. \n",
      "\n",
      "Note: I choose a one-tailed hypothesis test because in the case of KS statistic, a very small value close to 0 means that there is a close fit therefore I am interested in understanding what happens at the other end where the value is closer to 1."
     ]
    },
    {
     "cell_type": "heading",
     "level": 3,
     "metadata": {},
     "source": [
      "Functions"
     ]
    },
    {
     "cell_type": "markdown",
     "metadata": {},
     "source": [
      "The analysis is performed using a series of customised functions.    \n",
      "The first function **ks_expon( )** takes as an input a one dimensional array of numbers and returns the KS statistic against an exponential distribution with the scale parameter estimated according to MLE."
     ]
    },
    {
     "cell_type": "code",
     "collapsed": false,
     "input": [
      "##Calculate KS statistic for a vector of data against EXPONENTIAL distribution\n",
      "#x is a single dimension array of data\n",
      "def ks_expon(x): \n",
      "        n = np.size(x)#take the size of the data\n",
      "        gamma = n/sum(x)#scale parameter\n",
      "        x.sort()\n",
      "        cum_freq = np.linspace(1/n,1,n)#create the cumulative frequency scale\n",
      "        #calculate two arrays of differences for each step\n",
      "        dist_1 = np.abs(cum_freq - sps.expon.cdf(x, scale = 1/gamma))\n",
      "        dist_2 = np.abs((cum_freq-1/n) - sps.expon.cdf(x, scale = 1/gamma))\n",
      "        #take the maximum distances from the two arrays\n",
      "        max_1 = np.max(dist_1)\n",
      "        max_2 = np.max(dist_2)\n",
      "        KS_stat = np.max(max_1, max_2)\n",
      "        return KS_stat"
     ],
     "language": "python",
     "metadata": {},
     "outputs": [],
     "prompt_number": 4
    },
    {
     "cell_type": "markdown",
     "metadata": {},
     "source": [
      "The function **bootstrap_KS_expon( )** returns a matrix with samples drawn from an exponential distribution.\n",
      "It takes as an input the scale of the exponential distribution and the two dimensions of the matrix."
     ]
    },
    {
     "cell_type": "code",
     "collapsed": false,
     "input": [
      "##Bootstrap\n",
      "#y is the scale parameter of the exponential distribution, m is the number of samples and n is the sample size\n",
      "#the array KS_synthetic will have dimension m\n",
      "def bootstrap_KS_expon(y, m, n):\n",
      "    A = np.random.exponential(scale = y, size=(m, n))#bootstrp matrix: m is the number of row, n the number of columns\n",
      "    KS_synthetic = np.apply_along_axis(ks_expon, axis = 1, arr = A )#apply the function ks_expon along the rows\n",
      "    return KS_synthetic "
     ],
     "language": "python",
     "metadata": {},
     "outputs": [],
     "prompt_number": 5
    },
    {
     "cell_type": "markdown",
     "metadata": {},
     "source": [
      "The function **p_calc( )** takes as an input an empirical KS statistic and an array of generated KS statistics and calculates the probability of obtaining a value at least as extreme as the empirical KS."
     ]
    },
    {
     "cell_type": "code",
     "collapsed": false,
     "input": [
      "##Calculate P-value\n",
      "#ks_emp is the KS statistic to be tested - from empirical data\n",
      "#ks_synth is the single dimensions array of KS statistics created with the bootstrapping\n",
      "def p_calc(ks_emp, ks_synth):\n",
      "    ks_synth.sort()\n",
      "    count = 0\n",
      "    for i in ks_synth:\n",
      "        if i <= ks_emp:\n",
      "            count = count + 1\n",
      "            continue\n",
      "        else:\n",
      "            break\n",
      "    proportion = float(count) / np.size(ks_synth)\n",
      "    p_value = 1-proportion\n",
      "    return p_value"
     ],
     "language": "python",
     "metadata": {},
     "outputs": [],
     "prompt_number": 6
    },
    {
     "cell_type": "markdown",
     "metadata": {},
     "source": [
      "The function **eval_pvalue** takes as an input a p-value and evaluates it against a default significance level of 0.05. The significance level can also be given as an input."
     ]
    },
    {
     "cell_type": "code",
     "collapsed": false,
     "input": [
      "##Evaluate the p-value\n",
      "#H0: the distribution of the data follow the proposed theoretical distribution\n",
      "#H1: it does not\n",
      "#x is the p-value to be tested, y is the significance level desired\n",
      "def eval_pvalue(x, y = 0.05):\n",
      "    if x >= y:\n",
      "        print \"P-value: \", x, \" H0 cannot be rejected\"\n",
      "        \n",
      "    else: \n",
      "        print \"P-value: \", x, \" H0 can be rejected\""
     ],
     "language": "python",
     "metadata": {},
     "outputs": [],
     "prompt_number": 7
    },
    {
     "cell_type": "heading",
     "level": 3,
     "metadata": {},
     "source": [
      "Analysis and conclusions"
     ]
    },
    {
     "cell_type": "markdown",
     "metadata": {},
     "source": [
      "In order to run the analysis, I first set the number of samples for the bootstrap and the estimation of the scale parameter $\\hat{\\gamma}$ assuming an exponential distribution.    \n",
      "*KS_data* is the KS statistic of the VISA data set against the exponential distribution with scale parameter $\\hat{\\gamma}$ .   \n",
      "*KS_synth* is the one-dimensional array of KS statistics generated with the bootstrap.    \n",
      "p is the calculated *p-value*."
     ]
    },
    {
     "cell_type": "code",
     "collapsed": false,
     "input": [
      "#Parametres\n",
      "num_it = 1000 #set the number of bootstrapping\n",
      "Gamma = data_size/sum(data) #define the parameter of the hypothetical distribution according to MLE\n",
      "#Analysis\n",
      "KS_data = ks_expon(data) #calculate the KS statistic for the VISA data\n",
      "KS_synth = bootstrap_KS_expon(1/Gamma, num_it, data_size) #run the bootstrapping\n",
      "p = p_calc(KS_data, KS_synth) #calculate the p-value\n",
      "eval_pvalue(p, 0.05) #evaluate the p-value"
     ],
     "language": "python",
     "metadata": {},
     "outputs": [
      {
       "output_type": "stream",
       "stream": "stdout",
       "text": [
        "P-value:  0.579  H0 cannot be rejected\n"
       ]
      }
     ],
     "prompt_number": 8
    },
    {
     "cell_type": "markdown",
     "metadata": {},
     "source": [
      "The result of the analysis is that, given the significance level 0.05, there is not enough evidence to reject my null hypothesis that the data in VISA fits an exponential distribution."
     ]
    }
   ],
   "metadata": {}
  }
 ]
}