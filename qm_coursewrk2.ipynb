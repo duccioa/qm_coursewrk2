{
 "metadata": {
  "name": "",
  "signature": "sha256:3b8275c2d1c41407c426a334cf0b030c676b8de14c0950dd930e273525feef18"
 },
 "nbformat": 3,
 "nbformat_minor": 0,
 "worksheets": [
  {
   "cells": [
    {
     "cell_type": "code",
     "collapsed": false,
     "input": [
      "import scipy as sp\n",
      "import numpy as np\n",
      "import random as rn\n",
      "import scipy.stats as sps\n",
      "import csv \n",
      "import matplotlib.pyplot as plt"
     ],
     "language": "python",
     "metadata": {},
     "outputs": [],
     "prompt_number": 141
    },
    {
     "cell_type": "heading",
     "level": 3,
     "metadata": {},
     "source": [
      "Functions"
     ]
    },
    {
     "cell_type": "code",
     "collapsed": false,
     "input": [
      "#Calculate KS statistic for a vector of data against normal distribution\n",
      "def ks_norm(data): \n",
      "        n = np.size(data)\n",
      "        mu = np.mean(data)#MLC\n",
      "        sigma = np.std(data)#MLC\n",
      "        data.sort()\n",
      "        plotting_values =+ append([0], data) \n",
      "        cum_freq = np.linspace(0,1,n+1)\n",
      "        dist_1 = np.abs(cum_freq - sps.norm.cdf(plotting_values, mu, sigma))\n",
      "        max_1 = np.max(dist_1)\n",
      "        dist_2 = np.abs(cum_freq - np.append(sps.norm.cdf(plotting_values,mu,sigma)[1:],[1]))\n",
      "        max_2 = np.max(dist_2)\n",
      "        KS_stat = max(max_1, max_2)\n",
      "        return KS_stat"
     ],
     "language": "python",
     "metadata": {},
     "outputs": [],
     "prompt_number": 142
    },
    {
     "cell_type": "code",
     "collapsed": false,
     "input": [
      "#Define bootstrap matrix\n",
      "def matrix_norm(mu, sd, num_iterations, sample_size):\n",
      "         \n",
      "    A = np.random.normal(loc =mu, scale =sd, size=(num_iterations, sample_size))\n",
      "    return A"
     ],
     "language": "python",
     "metadata": {},
     "outputs": [],
     "prompt_number": 143
    },
    {
     "cell_type": "code",
     "collapsed": false,
     "input": [
      "#Bootstrap\n",
      "def bootstrap_KS_norm(mu, sd, num_iterations, sample_size):\n",
      "    A = matrix_norm(mu, sd, num_iterations, sample_size)\n",
      "    KS_synthetic = np.apply_along_axis(ks_norm, axis = 0, arr = A )\n",
      "    return KS_synthetic"
     ],
     "language": "python",
     "metadata": {},
     "outputs": [],
     "prompt_number": 144
    },
    {
     "cell_type": "code",
     "collapsed": false,
     "input": [
      "#Calculate P-value\n",
      "def p_calc(KS_test, KS_synthetic):\n",
      "    KS_synthetic.sort()\n",
      "    count = 0\n",
      "    for i in KS_synthetic:\n",
      "        print i #debug\n",
      "        if i >= KS_test:################### TO BE CHECKED #######################\n",
      "            count = count + 1\n",
      "            print \"KS_synthetic \", KS_synthetic[i], \">= KS_test\", KS_test #debug\n",
      "            continue\n",
      "        else:\n",
      "            print \"KS_synthetic \", KS_synthetic[i], \"< KS_test\", KS_test #debug\n",
      "            break\n",
      "    print \"Count: \", count #debug\n",
      "    proportion = float(count) / np.size(KS_synthetic)\n",
      "    print \"Proportion: \", proportion #debug\n",
      "    proportion = min(proportion, 1-proportion)\n",
      "    print \"Proportion: \", proportion #debug\n",
      "    p_value = 2*proportion\n",
      "    print \"P-value1: \", p_value#debug\n",
      "    return p_value\n",
      "    "
     ],
     "language": "python",
     "metadata": {},
     "outputs": [],
     "prompt_number": 145
    },
    {
     "cell_type": "code",
     "collapsed": false,
     "input": [
      "def eval_pvalue(p_value, sign_lev):\n",
      "    if p_value >= sign_lev:\n",
      "        print \"P-value: \", p_value, \" H0 cannot be rejected\"\n",
      "        \n",
      "    else: \n",
      "        print \"P-value: \", p_value, \" H0 can be rejected\"\n",
      "        "
     ],
     "language": "python",
     "metadata": {},
     "outputs": [],
     "prompt_number": 146
    },
    {
     "cell_type": "heading",
     "level": 3,
     "metadata": {},
     "source": [
      "Analysis"
     ]
    },
    {
     "cell_type": "code",
     "collapsed": false,
     "input": [
      "#define the data\n",
      "data_size = 100 #type size\n",
      "data_mean = 20 #type data mean\n",
      "data_std = 2 #type data standard deviation\n",
      "data = np.random.normal(loc =data_mean, scale =data_std, size=data_size)#normally distributed data\n",
      "#data = np.random.exponential(scale = 1.2, size = data_size)\n",
      "#plot data\n",
      "nbins = 15\n",
      "plt.figure(1)\n",
      "plt.title(\"Data Distribution\")\n",
      "plt.hist(data, nbins, normed = True)\n",
      "#plot data CDF\n",
      "data.sort()\n",
      "cum_freq = np.linspace(1/data_size, data_size, data_size)\n",
      "plt.figure(2)\n",
      "plt.title(\"Data CDF\")\n",
      "plt.step(data, cum_freq, 'b-', where = 'post')\n",
      "\n",
      "\n"
     ],
     "language": "python",
     "metadata": {},
     "outputs": [
      {
       "metadata": {},
       "output_type": "pyout",
       "prompt_number": 147,
       "text": [
        "[<matplotlib.lines.Line2D at 0x111e324d0>]"
       ]
      },
      {
       "metadata": {},
       "output_type": "display_data",
       "png": "[encoded data removed]",
       "text": [
        "<matplotlib.figure.Figure at 0x1115d37d0>"
       ]
      },
      {
       "metadata": {},
       "output_type": "display_data",
       "png": "[encoded data removed]",
       "text": [
        "<matplotlib.figure.Figure at 0x1128df7d0>"
       ]
      }
     ],
     "prompt_number": 147
    },
    {
     "cell_type": "code",
     "collapsed": false,
     "input": [
      "#KS statistic for the data\n",
      "KS_test = ks_norm(data)\n",
      "print \"KS statistic: \", KS_test\n",
      "#Bootstrap KS\n",
      "n_it = 10000 #define number of iteration for bootstrp\n",
      "s_size = np.size(data) #define sample size for each iteration\n",
      "KS_synthetic = bootstrap_KS_norm(np.mean(data), np.std(data), n_it, s_size)\n",
      "pv = p_calc(KS_test, KS_synthetic)\n",
      "print \"P-value\", pv #debug\n",
      "eval_pvalue(pv, 0.05)"
     ],
     "language": "python",
     "metadata": {},
     "outputs": [
      {
       "output_type": "stream",
       "stream": "stdout",
       "text": [
        "KS statistic:  0.0527751527423\n",
        "0.00401911226298"
       ]
      },
      {
       "output_type": "stream",
       "stream": "stdout",
       "text": [
        "\n",
        "KS_synthetic  0.00401911226298 < KS_test 0.0527751527423\n",
        "Count:  0\n",
        "Proportion:  0.0\n",
        "Proportion:  0.0\n",
        "P-value1:  0.0\n",
        "P-value 0.0\n",
        "P-value:  0.0  non significant\n"
       ]
      }
     ],
     "prompt_number": 148
    },
    {
     "cell_type": "code",
     "collapsed": false,
     "input": [],
     "language": "python",
     "metadata": {},
     "outputs": [],
     "prompt_number": 148
    }
   ],
   "metadata": {}
  }
 ]
}