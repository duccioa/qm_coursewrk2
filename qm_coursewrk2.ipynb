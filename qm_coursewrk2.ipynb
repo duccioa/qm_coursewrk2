{
 "metadata": {
  "name": "",
  "signature": "sha256:64aba2952e881ca4f9fc48540fd03dc561719877f0ced05cb6fd4c30df4d45b8"
 },
 "nbformat": 3,
 "nbformat_minor": 0,
 "worksheets": [
  {
   "cells": [
    {
     "cell_type": "code",
     "collapsed": false,
     "input": [
      "import scipy as sp\n",
      "import numpy as np\n",
      "import random as rn\n",
      "import scipy.stats as sps\n",
      "import csv \n",
      "import matplotlib.pyplot as plt"
     ],
     "language": "python",
     "metadata": {},
     "outputs": [],
     "prompt_number": 279
    },
    {
     "cell_type": "heading",
     "level": 3,
     "metadata": {},
     "source": [
      "Functions"
     ]
    },
    {
     "cell_type": "code",
     "collapsed": false,
     "input": [
      "#Calculate KS statistic for a vector of data against normal distribution\n",
      "def ks_norm(data): \n",
      "        n = np.size(data)\n",
      "        mu = np.mean(data)#MLE\n",
      "        sigma = np.std(data)#MLE\n",
      "        data.sort()\n",
      "        plotting_values =+ append([0], data) \n",
      "        cum_freq = np.linspace(0,1,n+1)\n",
      "        dist_1 = np.abs(cum_freq - sps.norm.cdf(plotting_values, mu, sigma))\n",
      "        max_1 = np.max(dist_1)\n",
      "        dist_2 = np.abs(cum_freq - np.append(sps.norm.cdf(plotting_values,mu,sigma)[1:],[1]))\n",
      "        max_2 = np.max(dist_2)\n",
      "        KS_stat = max(max_1, max_2)\n",
      "        return KS_stat"
     ],
     "language": "python",
     "metadata": {},
     "outputs": [],
     "prompt_number": 280
    },
    {
     "cell_type": "code",
     "collapsed": false,
     "input": [
      "#Define bootstrap matrix\n",
      "def matrix_norm(mu, sd, num_iterations, sample_size):\n",
      "         \n",
      "    A = np.random.normal(loc =mu, scale =sd, size=(num_iterations, sample_size))\n",
      "    print \"DEBUG Matrix dimensions: \", A.shape #debug\n",
      "    return A"
     ],
     "language": "python",
     "metadata": {},
     "outputs": [],
     "prompt_number": 281
    },
    {
     "cell_type": "code",
     "collapsed": false,
     "input": [
      "#Bootstrap\n",
      "def bootstrap_KS_norm(mu, sd, num_iterations, sample_size):\n",
      "    A = matrix_norm(mu, sd, num_iterations, sample_size)\n",
      "    KS_synthetic = np.apply_along_axis(ks_norm, axis = 1, arr = A )\n",
      "    #debug\n",
      "    bins = 20\n",
      "    plt.figure(3)\n",
      "    plt.title(\"KS_synthetic Distribution\")\n",
      "    plt.hist(KS_synthetic, nbins, normed = True)\n",
      "    \n",
      "    return KS_synthetic"
     ],
     "language": "python",
     "metadata": {},
     "outputs": [],
     "prompt_number": 282
    },
    {
     "cell_type": "code",
     "collapsed": false,
     "input": [
      "#Calculate P-value\n",
      "def p_calc(KS_test, KS_synthetic):\n",
      "    KS_synthetic.sort()\n",
      "    count = 0\n",
      "    for i in KS_synthetic:\n",
      "        if i <= KS_test:\n",
      "            count = count + 1\n",
      "            print \"DEBUG KS_synthetic \", i, \"<= KS_test\", KS_test #debug\n",
      "            continue\n",
      "        else:\n",
      "            print \"DEBUG KS_synthetic \", i, \"> KS_test\", KS_test #debug\n",
      "            break\n",
      "    print \"DEBUG Count: \", count #debug\n",
      "    proportion = float(count) / np.size(KS_synthetic)\n",
      "    print \"DEBUG proportion: \", proportion #debug\n",
      "    #proportion = min(proportion, 1-proportion)\n",
      "    #p_value = 2*proportion\n",
      "    p_value = 1-proportion\n",
      "    return p_value\n",
      "    "
     ],
     "language": "python",
     "metadata": {},
     "outputs": [],
     "prompt_number": 283
    },
    {
     "cell_type": "code",
     "collapsed": false,
     "input": [
      "def eval_pvalue(p_value, sign_lev):\n",
      "    if p_value >= sign_lev:\n",
      "        print \"P-value: \", p_value, \" H0 cannot be rejected\"\n",
      "        \n",
      "    else: \n",
      "        print \"P-value: \", p_value, \" H0 can be rejected\"\n",
      "        "
     ],
     "language": "python",
     "metadata": {},
     "outputs": [],
     "prompt_number": 284
    },
    {
     "cell_type": "heading",
     "level": 3,
     "metadata": {},
     "source": [
      "Analysis"
     ]
    },
    {
     "cell_type": "code",
     "collapsed": false,
     "input": [
      "#define the data\n",
      "data_size = 100 #type size\n",
      "data_mean = 20 #type data mean\n",
      "data_std = 2 #type data standard deviation\n",
      "#data = np.random.normal(loc =data_mean, scale =data_std, size=data_size)#normally distributed data\n",
      "data = np.random.exponential(scale = 1.2, size = data_size)#random data from exponetial distribution #debug\n",
      "#plot data\n",
      "nbins = 15\n",
      "plt.figure(1)\n",
      "plt.title(\"Data Distribution\")\n",
      "plt.hist(data, nbins, normed = True)\n",
      "#plot data CDF\n",
      "data.sort()\n",
      "cum_freq = np.linspace(1/data_size, data_size, data_size)\n",
      "plt.figure(2)\n",
      "plt.title(\"Data CDF\")\n",
      "plt.step(data, cum_freq, 'b-', where = 'post')\n",
      "\n",
      "\n"
     ],
     "language": "python",
     "metadata": {},
     "outputs": [
      {
       "metadata": {},
       "output_type": "pyout",
       "prompt_number": 287,
       "text": [
        "[<matplotlib.lines.Line2D at 0x1160cb890>]"
       ]
      },
      {
       "metadata": {},
       "output_type": "display_data",
       "png": "[encoded data removed]",
       "text": [
        "<matplotlib.figure.Figure at 0x116a06690>"
       ]
      },
      {
       "metadata": {},
       "output_type": "display_data",
       "png": "[encoded data removed]",
       "text": [
        "<matplotlib.figure.Figure at 0x1161b7a50>"
       ]
      }
     ],
     "prompt_number": 287
    },
    {
     "cell_type": "code",
     "collapsed": false,
     "input": [
      "#KS statistic for the data\n",
      "KS_test = ks_norm(data)\n",
      "#Bootstrap KS\n",
      "n_it = 100 #define number of iteration for bootstrp\n",
      "s_size = np.size(data) #define sample size for each iteration\n",
      "KS_synthetic = bootstrap_KS_norm(np.mean(data), np.std(data), n_it, s_size)\n",
      "print \"DEBUG KS_synthetic size: \", KS_synthetic.shape #debug\n",
      "pv = p_calc(KS_test, KS_synthetic)\n",
      "eval_pvalue(pv, 0.05)"
     ],
     "language": "python",
     "metadata": {},
     "outputs": [
      {
       "output_type": "stream",
       "stream": "stdout",
       "text": [
        "DEBUG Matrix dimensions:  (100, 100)\n",
        "DEBUG KS_synthetic size: "
       ]
      },
      {
       "output_type": "stream",
       "stream": "stdout",
       "text": [
        " (100,)\n",
        "DEBUG KS_synthetic  0.037833012961 <= KS_test 0.0482216620114\n",
        "DEBUG KS_synthetic  0.0389627089848 <= KS_test 0.0482216620114\n",
        "DEBUG KS_synthetic  0.0406392181579 <= KS_test 0.0482216620114\n",
        "DEBUG KS_synthetic  0.0425361303837 <= KS_test 0.0482216620114\n",
        "DEBUG KS_synthetic  0.0426470236281 <= KS_test 0.0482216620114\n",
        "DEBUG KS_synthetic  0.04296281398 <= KS_test 0.0482216620114\n",
        "DEBUG KS_synthetic  0.0437380203222 <= KS_test 0.0482216620114\n",
        "DEBUG KS_synthetic  0.044804739712 <= KS_test 0.0482216620114\n",
        "DEBUG KS_synthetic  0.0450871800709 <= KS_test 0.0482216620114\n",
        "DEBUG KS_synthetic  0.0451822833784 <= KS_test 0.0482216620114\n",
        "DEBUG KS_synthetic  0.0467647393225 <= KS_test 0.0482216620114\n",
        "DEBUG KS_synthetic  0.0475131803828 <= KS_test 0.0482216620114\n",
        "DEBUG KS_synthetic  0.0476207903133 <= KS_test 0.0482216620114\n",
        "DEBUG KS_synthetic  0.0481921461414 <= KS_test 0.0482216620114\n",
        "DEBUG KS_synthetic  0.0483881760703 > KS_test 0.0482216620114\n",
        "DEBUG Count:  14\n",
        "DEBUG proportion:  0.14\n",
        "P-value:  0.86  H0 cannot be rejected\n"
       ]
      },
      {
       "metadata": {},
       "output_type": "display_data",
       "png": "[encoded data removed]",
       "text": [
        "<matplotlib.figure.Figure at 0x116896050>"
       ]
      }
     ],
     "prompt_number": 286
    },
    {
     "cell_type": "code",
     "collapsed": false,
     "input": [],
     "language": "python",
     "metadata": {},
     "outputs": [],
     "prompt_number": 286
    }
   ],
   "metadata": {}
  }
 ]
}