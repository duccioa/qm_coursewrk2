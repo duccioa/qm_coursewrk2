{
 "metadata": {
  "name": "",
  "signature": "sha256:b3d9048e0cd6119298f88ea477e7283a52d8780c4454b0e960d41288279854f0"
 },
 "nbformat": 3,
 "nbformat_minor": 0,
 "worksheets": [
  {
   "cells": [
    {
     "cell_type": "code",
     "collapsed": false,
     "input": [
      "import scipy as sp\n",
      "import numpy as np\n",
      "import random as rn\n",
      "import scipy.stats as sps\n",
      "import csv \n",
      "import matplotlib.pyplot as plt"
     ],
     "language": "python",
     "metadata": {},
     "outputs": [],
     "prompt_number": 149
    },
    {
     "cell_type": "heading",
     "level": 3,
     "metadata": {},
     "source": [
      "Functions"
     ]
    },
    {
     "cell_type": "code",
     "collapsed": false,
     "input": [
      "#Calculate KS statistic for a vector of data against normal distribution\n",
      "def ks_norm(data): \n",
      "        n = np.size(data)\n",
      "        mu = np.mean(data)#MLC\n",
      "        sigma = np.std(data)#MLC\n",
      "        data.sort()\n",
      "        plotting_values =+ append([0], data) \n",
      "        cum_freq = np.linspace(0,1,n+1)\n",
      "        dist_1 = np.abs(cum_freq - sps.norm.cdf(plotting_values, mu, sigma))\n",
      "        max_1 = np.max(dist_1)\n",
      "        dist_2 = np.abs(cum_freq - np.append(sps.norm.cdf(plotting_values,mu,sigma)[1:],[1]))\n",
      "        max_2 = np.max(dist_2)\n",
      "        KS_stat = max(max_1, max_2)\n",
      "        return KS_stat"
     ],
     "language": "python",
     "metadata": {},
     "outputs": [],
     "prompt_number": 150
    },
    {
     "cell_type": "code",
     "collapsed": false,
     "input": [
      "#Define bootstrap matrix\n",
      "def matrix_norm(mu, sd, num_iterations, sample_size):\n",
      "         \n",
      "    A = np.random.normal(loc =mu, scale =sd, size=(num_iterations, sample_size))\n",
      "    return A"
     ],
     "language": "python",
     "metadata": {},
     "outputs": [],
     "prompt_number": 151
    },
    {
     "cell_type": "code",
     "collapsed": false,
     "input": [
      "#Bootstrap\n",
      "def bootstrap_KS_norm(mu, sd, num_iterations, sample_size):\n",
      "    A = matrix_norm(mu, sd, num_iterations, sample_size)\n",
      "    KS_synthetic = np.apply_along_axis(ks_norm, axis = 0, arr = A )\n",
      "    return KS_synthetic"
     ],
     "language": "python",
     "metadata": {},
     "outputs": [],
     "prompt_number": 152
    },
    {
     "cell_type": "code",
     "collapsed": false,
     "input": [
      "#Calculate P-value\n",
      "def p_calc(KS_test, KS_synthetic):\n",
      "    KS_synthetic.sort()\n",
      "    count = 0\n",
      "    for i in KS_synthetic:\n",
      "        if i <= KS_test:################### TO BE CHECKED #######################\n",
      "            count = count + 1\n",
      "            print \"KS_synthetic \", i, \"<= KS_test\", KS_test #debug\n",
      "            continue\n",
      "        else:\n",
      "            print \"KS_synthetic \", i, \"> KS_test\", KS_test #debug\n",
      "            break\n",
      "    print \"Count: \", count #debug\n",
      "    proportion = float(count) / np.size(KS_synthetic)\n",
      "    print \"Proportion1: \", proportion #debug\n",
      "    proportion = min(proportion, 1-proportion)\n",
      "    print \"Proportion2: \", proportion #debug\n",
      "    p_value = 2*proportion\n",
      "    print \"P-value1: \", p_value#debug\n",
      "    return p_value\n",
      "    "
     ],
     "language": "python",
     "metadata": {},
     "outputs": [],
     "prompt_number": 183
    },
    {
     "cell_type": "code",
     "collapsed": false,
     "input": [
      "def eval_pvalue(p_value, sign_lev):\n",
      "    if p_value >= sign_lev:\n",
      "        print \"P-value: \", p_value, \" H0 cannot be rejected\"\n",
      "        \n",
      "    else: \n",
      "        print \"P-value: \", p_value, \" H0 can be rejected\"\n",
      "        "
     ],
     "language": "python",
     "metadata": {},
     "outputs": [],
     "prompt_number": 170
    },
    {
     "cell_type": "heading",
     "level": 3,
     "metadata": {},
     "source": [
      "Analysis"
     ]
    },
    {
     "cell_type": "code",
     "collapsed": false,
     "input": [
      "#define the data\n",
      "data_size = 100 #type size\n",
      "data_mean = 20 #type data mean\n",
      "data_std = 2 #type data standard deviation\n",
      "data = np.random.normal(loc =data_mean, scale =data_std, size=data_size)#normally distributed data\n",
      "#data = np.random.exponential(scale = 1.2, size = data_size)\n",
      "#plot data\n",
      "nbins = 15\n",
      "plt.figure(1)\n",
      "plt.title(\"Data Distribution\")\n",
      "plt.hist(data, nbins, normed = True)\n",
      "#plot data CDF\n",
      "data.sort()\n",
      "cum_freq = np.linspace(1/data_size, data_size, data_size)\n",
      "plt.figure(2)\n",
      "plt.title(\"Data CDF\")\n",
      "plt.step(data, cum_freq, 'b-', where = 'post')\n",
      "\n",
      "\n"
     ],
     "language": "python",
     "metadata": {},
     "outputs": [
      {
       "metadata": {},
       "output_type": "pyout",
       "prompt_number": 187,
       "text": [
        "[<matplotlib.lines.Line2D at 0x11122b5d0>]"
       ]
      },
      {
       "metadata": {},
       "output_type": "display_data",
       "png": "[encoded data removed]",
       "text": [
        "<matplotlib.figure.Figure at 0x113cc8190>"
       ]
      },
      {
       "metadata": {},
       "output_type": "display_data",
       "png": "[encoded data removed]",
       "text": [
        "<matplotlib.figure.Figure at 0x113e0d250>"
       ]
      }
     ],
     "prompt_number": 187
    },
    {
     "cell_type": "code",
     "collapsed": false,
     "input": [
      "#KS statistic for the data\n",
      "KS_test = ks_norm(data)\n",
      "#Bootstrap KS\n",
      "n_it = 100 #define number of iteration for bootstrp\n",
      "s_size = np.size(data) #define sample size for each iteration\n",
      "KS_synthetic = bootstrap_KS_norm(np.mean(data), np.std(data), n_it, s_size)\n",
      "pv = p_calc(KS_test, KS_synthetic)\n",
      "print \"P-value\", pv #debug\n",
      "eval_pvalue(pv, 0.05)"
     ],
     "language": "python",
     "metadata": {},
     "outputs": [
      {
       "output_type": "stream",
       "stream": "stdout",
       "text": [
        "KS_synthetic  0.0362908620235 <= KS_test 0.0609372758972\n",
        "KS_synthetic  0.0379690139993 <= KS_test 0.0609372758972\n",
        "KS_synthetic  0.038557209065 <= KS_test 0.0609372758972\n",
        "KS_synthetic  0.0389390457502 <= KS_test 0.0609372758972\n",
        "KS_synthetic  0.0396042803822 <= KS_test 0.0609372758972\n",
        "KS_synthetic  0.0411105255935 <= KS_test 0.0609372758972\n",
        "KS_synthetic  0.0423365769288 <= KS_test 0.0609372758972\n",
        "KS_synthetic  0.043869964098 <= KS_test 0.0609372758972\n",
        "KS_synthetic  0.0441032650542 <= KS_test 0.0609372758972\n",
        "KS_synthetic  0.045031608725 <= KS_test 0.0609372758972\n",
        "KS_synthetic  0.0450700522931 <= KS_test 0.0609372758972\n",
        "KS_synthetic  0.04509570765 <= KS_test 0.0609372758972\n",
        "KS_synthetic  0.0454547834398 <= KS_test 0.0609372758972\n",
        "KS_synthetic  0.0464898083019 <= KS_test 0.0609372758972\n",
        "KS_synthetic  0.0470661279013 <= KS_test 0.0609372758972\n",
        "KS_synthetic  0.0470749467692 <= KS_test 0.0609372758972\n",
        "KS_synthetic  0.0474485859746 <= KS_test 0.0609372758972\n",
        "KS_synthetic  0.0474930644674 <= KS_test 0.0609372758972\n",
        "KS_synthetic  0.0482338600733 <= KS_test 0.0609372758972\n",
        "KS_synthetic  0.0483241018335 <= KS_test 0.0609372758972\n",
        "KS_synthetic  0.0490682397046 <= KS_test 0.0609372758972\n",
        "KS_synthetic  0.0491180528786 <= KS_test 0.0609372758972\n",
        "KS_synthetic  0.0491927731399 <= KS_test 0.0609372758972\n",
        "KS_synthetic  0.0493035354874 <= KS_test 0.0609372758972\n",
        "KS_synthetic  0.049632002296 <= KS_test 0.0609372758972\n",
        "KS_synthetic  0.0500233748061 <= KS_test 0.0609372758972\n",
        "KS_synthetic  0.0507898718109 <= KS_test 0.0609372758972\n",
        "KS_synthetic  0.0520366121123 <= KS_test 0.0609372758972\n",
        "KS_synthetic  0.0526703683118 <= KS_test 0.0609372758972\n",
        "KS_synthetic  0.0529679880833 <= KS_test 0.0609372758972\n",
        "KS_synthetic  0.0533727008674 <= KS_test 0.0609372758972\n",
        "KS_synthetic  0.0534982511558 <= KS_test 0.0609372758972\n",
        "KS_synthetic  0.0535753188046 <= KS_test 0.0609372758972\n",
        "KS_synthetic  0.0536514279744 <= KS_test 0.0609372758972\n",
        "KS_synthetic  0.0540764484689 <= KS_test 0.0609372758972\n",
        "KS_synthetic  0.0542111181918 <= KS_test 0.0609372758972\n",
        "KS_synthetic  0.0549916386379 <= KS_test 0.0609372758972\n",
        "KS_synthetic  0.0551974947274 <= KS_test 0.0609372758972\n",
        "KS_synthetic  0.055533556282 <= KS_test 0.0609372758972\n",
        "KS_synthetic  0.055546774313 <= KS_test 0.0609372758972\n",
        "KS_synthetic  0.0556732666391 <= KS_test 0.0609372758972\n",
        "KS_synthetic  0.0557882322941 <= KS_test 0.0609372758972\n",
        "KS_synthetic  0.0565009321826 <= KS_test 0.0609372758972\n",
        "KS_synthetic  0.0565891832135 <= KS_test 0.0609372758972\n",
        "KS_synthetic  0.0567634651433 <= KS_test 0.0609372758972\n",
        "KS_synthetic  0.0572999757522 <= KS_test 0.0609372758972\n",
        "KS_synthetic  0.0574111948897 <= KS_test 0.0609372758972\n",
        "KS_synthetic  0.0574257837938 <= KS_test 0.0609372758972\n",
        "KS_synthetic  0.0578542318258 <= KS_test 0.0609372758972\n",
        "KS_synthetic  0.0583837247509 <= KS_test 0.0609372758972\n",
        "KS_synthetic  0.0588392032206 <= KS_test 0.0609372758972\n",
        "KS_synthetic  0.0589136143353 <= KS_test 0.0609372758972\n",
        "KS_synthetic  0.0591946188977 <= KS_test 0.0609372758972\n",
        "KS_synthetic  0.0592113208123 <= KS_test 0.0609372758972\n",
        "KS_synthetic  0.0595412602827 <= KS_test 0.0609372758972\n",
        "KS_synthetic  0.0607839459462 <= KS_test 0.0609372758972\n",
        "KS_synthetic  0.061889364981 > KS_test 0.0609372758972\n",
        "Count:  56\n",
        "Proportion1:  0.56\n",
        "Proportion2:  0.44\n",
        "P-value1:  0.88\n",
        "P-value 0.88\n",
        "P-value:  0.88  H0 cannot be rejected\n"
       ]
      }
     ],
     "prompt_number": 188
    },
    {
     "cell_type": "code",
     "collapsed": false,
     "input": [],
     "language": "python",
     "metadata": {},
     "outputs": [],
     "prompt_number": 168
    },
    {
     "cell_type": "code",
     "collapsed": false,
     "input": [],
     "language": "python",
     "metadata": {},
     "outputs": []
    }
   ],
   "metadata": {}
  }
 ]
}